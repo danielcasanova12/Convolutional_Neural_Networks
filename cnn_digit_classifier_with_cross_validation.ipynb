{
 "cells": [
  {
   "cell_type": "code",
   "execution_count": null,
   "metadata": {},
   "outputs": [],
   "source": [
    "import numpy as np\n",
    "from sklearn.model_selection import StratifiedKFold\n",
    "from keras.datasets import mnist\n",
    "from keras.models import Sequential\n",
    "from keras.layers import Conv2D, MaxPooling2D, Flatten, Dense, Dropout\n",
    "from keras.utils import to_categorical"
   ]
  },
  {
   "cell_type": "code",
   "execution_count": null,
   "metadata": {},
   "outputs": [],
   "source": [
    "np.random.seed(5)"
   ]
  },
  {
   "cell_type": "code",
   "execution_count": null,
   "metadata": {},
   "outputs": [],
   "source": [
    "(X,y), (X_teste,y_teste) = mnist.load_data()"
   ]
  },
  {
   "cell_type": "code",
   "execution_count": null,
   "metadata": {},
   "outputs": [],
   "source": [
    "previsores = X.reshape(X.shape[0],28,28,1) \n",
    "previsores = previsores.astype('float32')\n",
    "previsores /= 255\n",
    "\n",
    "classe = to_categorical(y,10)"
   ]
  },
  {
   "cell_type": "code",
   "execution_count": null,
   "metadata": {},
   "outputs": [],
   "source": [
    "kfold = StratifiedKFold(n_splits = 5,\n",
    "                       shuffle = True,\n",
    "                       random_state = 5)\n",
    "resultados = []"
   ]
  },
  {
   "cell_type": "code",
   "execution_count": null,
   "metadata": {},
   "outputs": [],
   "source": [
    "kfold = StratifiedKFold(n_splits = 5,\n",
    "                       shuffle = True,\n",
    "                       random_state = 5)\n",
    "resultados = []"
   ]
  },
  {
   "cell_type": "code",
   "execution_count": null,
   "metadata": {},
   "outputs": [],
   "source": [
    "\n",
    "for indice_treinamento, indice_teste in kfold.split(previsores,\n",
    "                                                   np.zeros(shape=(previsores.shape[0],1))):\n",
    "    \n",
    "    classificador = Sequential()\n",
    "    classificador.add(Conv2D(32,(3,3), input_shape=(28,28,1), activation='relu'))\n",
    "    classificador.add(MaxPooling2D(pool_size=(2,2)))\n",
    "    classificador.add(Flatten())\n",
    "    classificador.add(Dense(units=128, activation='relu'))\n",
    "    classificador.add(Dense(units=10, activation='softmax'))\n",
    "    classificador.compile(loss='categorical_crossentropy',\n",
    "                          optimizer='adam', metrics=['accuracy'])\n",
    "    \n",
    "    classificador.fit(previsores[indice_treinamento],classe[indice_treinamento],\n",
    "                     batch_size= 128, epochs=5)\n",
    "    \n",
    "    precisao = classificador.evaluate(previsores[indice_teste],classe[indice_teste])\n",
    "    resultados.append(precisao[1])\n",
    "    "
   ]
  },
  {
   "cell_type": "code",
   "execution_count": null,
   "metadata": {},
   "outputs": [],
   "source": [
    "media = sum(resultados) / len(resultados)\n",
    "media"
   ]
  },
  {
   "cell_type": "code",
   "execution_count": null,
   "metadata": {},
   "outputs": [],
   "source": []
  },
  {
   "cell_type": "code",
   "execution_count": null,
   "metadata": {},
   "outputs": [],
   "source": []
  },
  {
   "cell_type": "code",
   "execution_count": null,
   "metadata": {},
   "outputs": [],
   "source": []
  },
  {
   "cell_type": "code",
   "execution_count": null,
   "metadata": {},
   "outputs": [],
   "source": []
  }
 ],
 "metadata": {
  "language_info": {
   "name": "python"
  }
 },
 "nbformat": 4,
 "nbformat_minor": 2
}
