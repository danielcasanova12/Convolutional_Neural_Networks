{
 "cells": [
  {
   "cell_type": "code",
   "execution_count": null,
   "metadata": {},
   "outputs": [],
   "source": [
    "from keras.datasets import mnist\n",
    "from keras.models import Sequential\n",
    "from keras.layers import Dense, Flatten, Conv2D, MaxPooling2D\n",
    "from keras.utils import np_utils\n",
    "from keras.preprocessing.image import ImageDataGenerator"
   ]
  },
  {
   "cell_type": "code",
   "execution_count": null,
   "metadata": {},
   "outputs": [],
   "source": [
    "(X_treinamento, y_treinamento), (X_teste, y_teste) = mnist.load_data()"
   ]
  },
  {
   "cell_type": "code",
   "execution_count": null,
   "metadata": {},
   "outputs": [],
   "source": [
    "previsores_treinamento = X_treinamento.reshape(X_treinamento.shape[0],\n",
    "                                               28, 28, 1)\n",
    "previsores_teste = X_teste.reshape(X_teste.shape[0], 28, 28, 1)\n",
    "previsores_treinamento = previsores_treinamento.astype('float32')\n",
    "previsores_teste = previsores_teste.astype('float32')\n",
    "previsores_treinamento /= 255\n",
    "previsores_teste /= 255\n",
    "classe_treinamento = np_utils.to_categorical(y_treinamento, 10)\n",
    "classe_teste = np_utils.to_categorical(y_teste, 10)"
   ]
  },
  {
   "cell_type": "code",
   "execution_count": null,
   "metadata": {},
   "outputs": [],
   "source": [
    "classificador = Sequential()\n",
    "classificador.add(Conv2D(32, (3,3), input_shape=(28, 28, 1), activation = 'relu'))\n",
    "classificador.add(MaxPooling2D(pool_size = (2,2)))\n",
    "classificador.add(Flatten())\n"
   ]
  },
  {
   "cell_type": "code",
   "execution_count": null,
   "metadata": {},
   "outputs": [],
   "source": [
    "classificador.add(Dense(units = 128, activation = 'relu'))\n",
    "classificador.add(Dense(units = 10, activation = 'softmax'))\n",
    "classificador.compile(loss = 'categorical_crossentropy',\n",
    "                      optimizer = 'adam', metrics = ['accuracy'])"
   ]
  },
  {
   "cell_type": "markdown",
   "metadata": {},
   "source": [
    "## Data augmentation e geração de lotes"
   ]
  },
  {
   "cell_type": "code",
   "execution_count": null,
   "metadata": {},
   "outputs": [],
   "source": [
    "gerador_treinamento = ImageDataGenerator(rotation_range = 7,\n",
    "                                         horizontal_flip = True,\n",
    "                                         shear_range = 0.2,\n",
    "                                         height_shift_range = 0.07,\n",
    "                                         zoom_range = 0.2)\n",
    "gerador_teste = ImageDataGenerator()\n",
    "base_treinamento = gerador_treinamento.flow(previsores_treinamento,\n",
    "                                            classe_treinamento, batch_size = 128)\n",
    "base_teste = gerador_teste.flow(previsores_teste, classe_teste, batch_size = 128)"
   ]
  },
  {
   "cell_type": "markdown",
   "metadata": {},
   "source": [
    "## Treinamento do modelo"
   ]
  },
  {
   "cell_type": "code",
   "execution_count": null,
   "metadata": {},
   "outputs": [],
   "source": [
    "classificador.fit_generator(base_treinamento, steps_per_epoch = 600000 / 128,\n",
    "                            epochs = 5, validation_data = base_teste,\n",
    "                            validation_steps = 10000 / 128)"
   ]
  },
  {
   "cell_type": "code",
   "execution_count": null,
   "metadata": {},
   "outputs": [],
   "source": []
  },
  {
   "cell_type": "code",
   "execution_count": null,
   "metadata": {},
   "outputs": [],
   "source": []
  },
  {
   "cell_type": "code",
   "execution_count": null,
   "metadata": {},
   "outputs": [],
   "source": []
  },
  {
   "cell_type": "code",
   "execution_count": null,
   "metadata": {},
   "outputs": [],
   "source": []
  },
  {
   "cell_type": "code",
   "execution_count": null,
   "metadata": {},
   "outputs": [],
   "source": []
  },
  {
   "cell_type": "code",
   "execution_count": null,
   "metadata": {},
   "outputs": [],
   "source": []
  }
 ],
 "metadata": {
  "language_info": {
   "name": "python"
  }
 },
 "nbformat": 4,
 "nbformat_minor": 2
}
